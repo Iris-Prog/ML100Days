{
 "cells": [
  {
   "cell_type": "code",
   "execution_count": null,
   "metadata": {},
   "outputs": [],
   "source": [
    "#1.生成一個等差數列，首數為0，尾數為20，公差為1的數列。\n",
    "import numpy as np\n",
    "A=np.arange(0,21)\n",
    "print(A)\n",
    "\n",
    "#2.呈上題，將以上數列取出偶數。\n",
    "#B=np.arange(0,19,2) 修正前\n",
    "B=A[::2]\n",
    "print(B)\n",
    "\n",
    "#3.呈 1 題，將數列取出 3 的倍數。\n",
    "# C=A%3==0 \n",
    "# print(A[C]) 修正前\n",
    "C=A[3::3]\n",
    "print(C)"
   ]
  }
 ],
 "metadata": {
  "kernelspec": {
   "display_name": "Python 3",
   "language": "python",
   "name": "python3"
  },
  "language_info": {
   "codemirror_mode": {
    "name": "ipython",
    "version": 3
   },
   "file_extension": ".py",
   "mimetype": "text/x-python",
   "name": "python",
   "nbconvert_exporter": "python",
   "pygments_lexer": "ipython3",
   "version": "3.8.5"
  }
 },
 "nbformat": 4,
 "nbformat_minor": 4
}
