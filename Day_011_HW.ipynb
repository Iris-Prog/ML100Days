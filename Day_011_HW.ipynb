{
 "cells": [
  {
   "cell_type": "code",
   "execution_count": 1,
   "metadata": {},
   "outputs": [
    {
     "name": "stdout",
     "output_type": "stream",
     "text": [
      "將問卷 Profession 欄位缺失值填入字串 others：\n",
      "      Sex Profession\n",
      "0    male    teacher\n",
      "1    male   engineer\n",
      "2  female     others\n",
      "3  female   engineer\n",
      "\n",
      "使用 get_dummies 進行 one-hot 編碼比較合適；因為，目前性別或職業資料均沒有順序性的意義。\n"
     ]
    }
   ],
   "source": [
    "# 題目 : 將以下問卷資料的職業(Profession)欄位缺失值填入字串'others'，更進一步將字串做編碼。 此時用什麼方式做編碼比較適合?為什麼?\n",
    "import pandas as pd\n",
    "q_df = pd.DataFrame([['male', 'teacher'], ['male', 'engineer'],\n",
    "       ['female', None],['female', 'engineer']],columns=['Sex','Profession'])\n",
    "fillna_df = q_df.fillna('others')\n",
    "print('將問卷 Profession 欄位缺失值填入字串 others：')\n",
    "print(fillna_df)\n",
    "print('\\n使用 get_dummies 進行 one-hot 編碼比較合適；因為，目前性別或職業資料均沒有順序性的意義。')"
   ]
  },
  {
   "cell_type": "code",
   "execution_count": null,
   "metadata": {},
   "outputs": [],
   "source": []
  }
 ],
 "metadata": {
  "kernelspec": {
   "display_name": "Python 3",
   "language": "python",
   "name": "python3"
  },
  "language_info": {
   "codemirror_mode": {
    "name": "ipython",
    "version": 3
   },
   "file_extension": ".py",
   "mimetype": "text/x-python",
   "name": "python",
   "nbconvert_exporter": "python",
   "pygments_lexer": "ipython3",
   "version": "3.8.5"
  }
 },
 "nbformat": 4,
 "nbformat_minor": 4
}
