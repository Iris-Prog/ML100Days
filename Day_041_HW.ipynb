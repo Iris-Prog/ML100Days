{
 "cells": [
  {
   "cell_type": "code",
   "execution_count": 1,
   "metadata": {},
   "outputs": [
    {
     "name": "stdout",
     "output_type": "stream",
     "text": [
      "遺失資料比例:\n",
      "              missing_rate\n",
      "PassengerId      0.000000\n",
      "Survived         0.000000\n",
      "Pclass           0.000000\n",
      "Name             0.000000\n",
      "Sex              0.000000\n",
      "Age              0.198653\n",
      "SibSp            0.000000\n",
      "Parch            0.000000\n",
      "Ticket           0.000000\n",
      "Fare             0.000000\n",
      "Cabin            0.771044\n",
      "Embarked         0.002245\n"
     ]
    }
   ],
   "source": [
    "# 作業：在鐵達尼資料集中，今天我們專注觀察變數之間的相關性，以Titanic_train.csv 中，首先將有遺失值的數值刪除，並回答下列問題。\n",
    "# library\n",
    "import matplotlib.pyplot as plt\n",
    "import numpy as np\n",
    "import pandas as pd\n",
    "from scipy import stats\n",
    "import math\n",
    "import statistics\n",
    "import seaborn as sns\n",
    "from IPython.display import display\n",
    "import sklearn\n",
    "import pingouin as pg\n",
    "import researchpy\n",
    "%matplotlib inline\n",
    "import warnings\n",
    "warnings.filterwarnings( 'ignore' )\n",
    "\n",
    "# 顯示圖形的函數，可不先不用理解，直接用\n",
    "from IPython.display import display\n",
    "from IPython.display import display_html\n",
    "def display_side_by_side(*args):\n",
    "    html_str=''\n",
    "    for df in args:\n",
    "        html_str+=df.to_html()\n",
    "    display_html(html_str.replace('table','table style=\"display:inline\"'),raw=True)\n",
    "    \n",
    "data = pd.read_csv(\"Titanic_train.csv\")\n",
    "# 計算每一行是否有遺失值，計算遺失比例\n",
    "missing_vals = data.isnull().sum()/len(data)\n",
    "missing_vals.sort_values(ascending=False)\n",
    "missing_vals = pd.DataFrame(missing_vals,columns=['missing_rate'])\n",
    "print('遺失資料比例:\\n',missing_vals)\n",
    "# Age、Cabin & Embarked 有遺失值"
   ]
  },
  {
   "cell_type": "code",
   "execution_count": 2,
   "metadata": {},
   "outputs": [
    {
     "name": "stdout",
     "output_type": "stream",
     "text": [
      "Age 與 Survied 相關性：\n"
     ]
    },
    {
     "data": {
      "image/png": "[encoded data removed]",
      "text/plain": [
       "<Figure size 360x360 with 1 Axes>"
      ]
     },
     "metadata": {
      "needs_background": "light"
     },
     "output_type": "display_data"
    },
    {
     "name": "stdout",
     "output_type": "stream",
     "text": [
      "組間與組內變異數：\n",
      "組間變異數 =  897.1875816713222\n",
      "組內變異數 =  149559.44836244633\n",
      "總變異數 =  150456.63594411765\n",
      "Eta Squared (η2) =  0.0059630974469252\n",
      "judgment_etaSq = Negligible\n",
      "\n",
      "***************************************************\n",
      "\n",
      "Q1答案：透過數值法計算 Sex 和 Survived 無相關性。\n"
     ]
    }
   ],
   "source": [
    "# Q1: 透過數值法計算 Age 和 Survived 是否有相關性?\n",
    "# 這邊我們做一個調整，把 Survived 變成離散型變數 Survived_cate\n",
    "data['Survived_cate'] = data['Survived'].astype('object')\n",
    "data['Survived_cate'].head(5)\n",
    "g = sns.catplot( x='Survived_cate', y='Age', hue='Survived_cate', data=data, kind='violin' )\n",
    "print('Age 與 Survied 相關性：')\n",
    "plt.show()\n",
    "\n",
    "aov = pg.anova(dv='Age', between='Survived_cate', data=data, detailed=True )\n",
    "print('組間與組內變異數：')\n",
    "aov\n",
    "print('組間變異數 = ', aov.SS[0])\n",
    "print('組內變異數 = ', aov.SS[1])\n",
    "print('總變異數 = ', aov.SS[0]+aov.SS[1])\n",
    "# 算相關性 Eta Squared (η2)\n",
    "etaSq = aov.SS[0] / (aov.SS[0] + aov.SS[1])\n",
    "print('Eta Squared (η2) = ', etaSq)\n",
    "\n",
    "# 判斷相關的準則\n",
    "def judgment_etaSq(etaSq):\n",
    "    if etaSq < .01:\n",
    "        qual = 'Negligible'\n",
    "    elif etaSq < .06:\n",
    "        qual = 'Small'\n",
    "    elif etaSq < .14:\n",
    "        qual = 'Medium'\n",
    "    else:\n",
    "        qual = 'Large'\n",
    "    return(qual)\n",
    "\n",
    "print('judgment_etaSq =', judgment_etaSq(etaSq))\n",
    "print('\\n***************************************************')\n",
    "print('\\nQ1答案：透過數值法計算 Sex 和 Survived 無相關性。')"
   ]
  },
  {
   "cell_type": "code",
   "execution_count": 3,
   "metadata": {},
   "outputs": [
    {
     "name": "stdout",
     "output_type": "stream",
     "text": [
      "自由度 df = 1\n",
      "\n",
      "**************************************\n",
      "              Survived_cate          \n",
      "Survived_cate             0    1  All\n",
      "Sex                                  \n",
      "female                   81  233  314\n",
      "male                    468  109  577\n",
      "All                     549  342  891\n",
      "\n",
      "**************************************\n",
      "                Chi-square test   results\n",
      "0  Pearson Chi-square ( 1.0) =   263.0506\n",
      "1                    p-value =     0.0000\n",
      "2               Cramer's phi =     0.5434\n",
      "\n",
      "Cramer's V = 0.5434\n",
      "judgment_CramerV =  large\n",
      "\n",
      "***************************************************\n",
      "\n",
      "Q2答案：透過數值法計算 Sex 和 Survived 相關性高。\n"
     ]
    }
   ],
   "source": [
    "# Q2: 透過數值法計算 Sex 和 Survived 是否有相關性?\n",
    "# g = sns.countplot( x='Sex', hue='Survived_cate', data=data)\n",
    "# 用交叉列連表(contingency table)\n",
    "contTable = pd.crosstab( data['Sex'], data['Survived_cate'] )\n",
    "contTable\n",
    "\n",
    "# 計算自由度 df\n",
    "df = min(contTable.shape[0], contTable.shape[1]) - 1\n",
    "print('自由度 df =', df)\n",
    "print('\\n**************************************')\n",
    "crosstab, res = researchpy.crosstab(data['Sex'], data['Survived_cate'], test='chi-square')\n",
    "print(crosstab)\n",
    "print('\\n**************************************')\n",
    "print(res)\n",
    "print(\"\\nCramer's V =\",res.loc[2,'results'])\n",
    "\n",
    "# 寫一個 function 判斷相關性的強度\n",
    "def judgment_CramerV(df,V):\n",
    "    if df == 1:\n",
    "        if V < 0.10:\n",
    "            qual = 'negligible'\n",
    "        elif V < 0.30:\n",
    "            qual = 'small'\n",
    "        elif V < 0.50:\n",
    "            qual = 'medium'\n",
    "        else:\n",
    "            qual = 'large'\n",
    "    elif df == 2:\n",
    "        if V < 0.07:\n",
    "            qual = 'negligible'\n",
    "        elif V < 0.21:\n",
    "            qual = 'small'\n",
    "        elif V < 0.35:\n",
    "            qual = 'medium'\n",
    "        else:\n",
    "            qual = 'large'\n",
    "    elif df == 3:\n",
    "        if V < 0.06:\n",
    "            qual = 'negligible'\n",
    "        elif V < 0.17:\n",
    "            qual = 'small'\n",
    "        elif V < 0.29:\n",
    "            qual = 'medium'\n",
    "        else:\n",
    "            qual = 'large'\n",
    "    elif df == 4:\n",
    "        if V < 0.05:\n",
    "            qual = 'negligible'\n",
    "        elif V < 0.15:\n",
    "            qual = 'small'\n",
    "        elif V < 0.25:\n",
    "            qual = 'medium'\n",
    "        else:\n",
    "            qual = 'large'\n",
    "    else:\n",
    "        if V < 0.05:\n",
    "            qual = 'negligible'\n",
    "        elif V < 0.13:\n",
    "            qual = 'small'\n",
    "        elif V < 0.22:\n",
    "            qual = 'medium'\n",
    "        else:\n",
    "            qual = 'large'\n",
    "    return(qual)\n",
    "\n",
    "print('judgment_CramerV = ', judgment_CramerV(df,res.loc[2,'results']))\n",
    "print('\\n***************************************************')\n",
    "print('\\nQ2答案：透過數值法計算 Sex 和 Survived 相關性高。')"
   ]
  },
  {
   "cell_type": "code",
   "execution_count": 4,
   "metadata": {},
   "outputs": [
    {
     "name": "stdout",
     "output_type": "stream",
     "text": [
      "Pearson 相關係數 = 0.09606669176903906\n",
      "Q3答案：透過數值法計算 Age 和 Fare 的 Pearson 相關係數 < 0.1，判定為無線性相關。\n"
     ]
    },
    {
     "data": {
      "image/png": "[encoded data removed]",
      "text/plain": [
       "<Figure size 432x288 with 1 Axes>"
      ]
     },
     "metadata": {
      "needs_background": "light"
     },
     "output_type": "display_data"
    }
   ],
   "source": [
    "# Q3: 透過數值法計算 Age 和 Fare 是否有相關性?\n",
    "# 透過最上面查詢 Age 遺失資料比例約20%，先處理遺失值\n",
    "data_age = data.dropna(subset=['Age'])\n",
    "g = sns.regplot(x=\"Age\", y=\"Fare\", color=\"b\",data=data_age)\n",
    "\n",
    "corr, p_value =stats.pearsonr(data_age['Age'], data_age['Fare'])\n",
    "print('Pearson 相關係數 =', corr)\n",
    "print('Q3答案：透過數值法計算 Age 和 Fare 的 Pearson 相關係數 < 0.1，判定為無線性相關。')"
   ]
  },
  {
   "cell_type": "code",
   "execution_count": null,
   "metadata": {},
   "outputs": [],
   "source": []
  }
 ],
 "metadata": {
  "kernelspec": {
   "display_name": "Python 3",
   "language": "python",
   "name": "python3"
  },
  "language_info": {
   "codemirror_mode": {
    "name": "ipython",
    "version": 3
   },
   "file_extension": ".py",
   "mimetype": "text/x-python",
   "name": "python",
   "nbconvert_exporter": "python",
   "pygments_lexer": "ipython3",
   "version": "3.8.5"
  }
 },
 "nbformat": 4,
 "nbformat_minor": 4
}
