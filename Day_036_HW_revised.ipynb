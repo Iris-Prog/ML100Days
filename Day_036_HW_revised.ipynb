{
 "cells": [
  {
   "cell_type": "code",
   "execution_count": 3,
   "metadata": {},
   "outputs": [
    {
     "name": "stdout",
     "output_type": "stream",
     "text": [
      "p-value: 0.0000013319\n"
     ]
    }
   ],
   "source": [
    "# 作業:用 A/B test 幫工廠做決定吧\n",
    "# 作業 1：某工廠想知道兩條不同的生產線的產品不良率是否有所不同，由兩條生產線中各抽取 300 個樣本\n",
    "#         第一組有 75 個不良品，第二組有 30 個不良品，我們可以宣稱生產線所生產出的產品不良率不相同? (以 0.05 為顯著水準)?\n",
    "# (提示:透過課程投影片的步驟，需思考 𝐻_0、 𝐻_1 的寫法和範例不同唷。)\n",
    "# library\n",
    "import pandas as pd\n",
    "import statsmodels.stats.proportion\n",
    "\n",
    "# 虛無假設(H0): 生產線所生產出的產品不良率相同\n",
    "# 對立假設(H1): 生產線所生產出的產品不良率不同\n",
    "A = [75,30]   # 兩組生產線個別之不良品\n",
    "B = [300,300] # 兩組實驗總個數\n",
    "α = 0.05     # 顯著水準\n",
    "# ztest, pvalue = statsmodels.stats.proportion.proportions_ztest(A, B, alternative='smaller')\n",
    "ztest, pvalue = statsmodels.stats.proportion.proportions_ztest(A, B, alternative='two-sided')\n",
    "print('p-value:', '{:.10f}'.format(pvalue))\n",
    "\n",
    "# 訂正 Q2答案：p-value(0.0000013319) < α(0.05) 拒絕虛無假設(H0)，所以結論是「兩生產線的不良率是不同」。"
   ]
  },
  {
   "cell_type": "code",
   "execution_count": null,
   "metadata": {},
   "outputs": [],
   "source": [
    "# 作業 2：你的工作，有需要 A/B test 幫你做決定？\n",
    "# 可以在論壇中，寫出你的問題，嘗試用今天課程教的方法，透過 5個步驟的拆解，計算出結果，透過統計輔助你做決策。\n",
    "# Q2答案：無"
   ]
  }
 ],
 "metadata": {
  "kernelspec": {
   "display_name": "Python 3",
   "language": "python",
   "name": "python3"
  },
  "language_info": {
   "codemirror_mode": {
    "name": "ipython",
    "version": 3
   },
   "file_extension": ".py",
   "mimetype": "text/x-python",
   "name": "python",
   "nbconvert_exporter": "python",
   "pygments_lexer": "ipython3",
   "version": "3.8.5"
  }
 },
 "nbformat": 4,
 "nbformat_minor": 4
}
