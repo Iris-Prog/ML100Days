{
 "cells": [
  {
   "cell_type": "code",
   "execution_count": 1,
   "metadata": {},
   "outputs": [
    {
     "name": "stdout",
     "output_type": "stream",
     "text": [
      "\n",
      "合併後 open 小於 close 的資料：\n",
      "          date    open    high     low   close\n",
      "0   109/09/01  102.45  103.35  101.85  103.35\n",
      "3   109/09/04  102.00  102.70  101.90  102.55\n",
      "5   109/09/08  102.75  103.10  102.45  103.00\n",
      "6   109/09/09  101.75  102.35  101.15  102.30\n",
      "7   109/09/10  102.80  103.35  102.60  103.20\n",
      "8   109/09/11  103.20  103.35  102.80  103.25\n",
      "9   109/09/14  103.50  104.55  103.25  104.55\n",
      "10  109/09/15  104.45  105.20  104.25  104.95\n",
      "19  109/09/28  101.35  102.30  101.00  102.30\n",
      "21  109/09/30  102.75  103.45  102.60  103.00\n",
      "1   109/10/06  104.00  104.35  103.85  104.25\n",
      "2   109/10/07  104.00  105.00  103.50  104.80\n",
      "3   109/10/08  105.45  106.35  105.30  106.20\n",
      "4   109/10/12  106.70  107.70  106.70  107.05\n",
      "9   109/10/19  105.65  106.60  105.60  106.60\n",
      "12  109/10/22  105.70  106.10  105.50  106.10\n"
     ]
    }
   ],
   "source": [
    "# 題目: 讀取 STOCK_DAY_0050_202009.csv 串聯 STOCK_DAY_0050_202010.csv，並且找出 open 小於 close 的資料\n",
    "import pandas as pd\n",
    "stock_data1 = pd.read_csv('STOCK_DAY_0050_202009.csv')\n",
    "# print('STOCK_DAY_0050_202009資料如下：\\n', stock_data1) 修正前\n",
    "stock_data2 = pd.read_csv('STOCK_DAY_0050_202010.csv')\n",
    "# axis0_data1N2 = pd.concat([stock_data1,stock_data2],axis=0,join='inner') 修正前\n",
    "# o_lower_c = axis0_data1N2.loc[(stock_data1.open<stock_data1.close)&(stock_data2.open<stock_data2.close),['date','open','close']] 修正前\n",
    "concat_data1N2 = pd.concat([stock_data1,stock_data2])\n",
    "# 找出 open 小於 close 的資料\n",
    "o_lower_c = concat_data1N2[concat_data1N2.open<concat_data1N2.close]\n",
    "print('\\n合併後 open 小於 close 的資料：\\n', o_lower_c)"
   ]
  },
  {
   "cell_type": "code",
   "execution_count": null,
   "metadata": {},
   "outputs": [],
   "source": []
  }
 ],
 "metadata": {
  "kernelspec": {
   "display_name": "Python 3",
   "language": "python",
   "name": "python3"
  },
  "language_info": {
   "codemirror_mode": {
    "name": "ipython",
    "version": 3
   },
   "file_extension": ".py",
   "mimetype": "text/x-python",
   "name": "python",
   "nbconvert_exporter": "python",
   "pygments_lexer": "ipython3",
   "version": "3.8.5"
  }
 },
 "nbformat": 4,
 "nbformat_minor": 4
}
