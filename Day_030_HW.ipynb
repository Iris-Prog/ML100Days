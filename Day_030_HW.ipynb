{
 "cells": [
  {
   "cell_type": "code",
   "execution_count": 1,
   "metadata": {},
   "outputs": [],
   "source": [
    "#電影院裡通常都是成對情侶一起去看，假設電影院中有100 個人裡面，有 90 名男性和 10 名女性。\n",
    "#在這 10 名女性裡，有一半的人有長髮（5 人），另一半有短髮（5人）；\n",
    "#在 90 名男性當中，81 個人有短髮，9個人有長髮。\n",
    "# calculate P(A|B) given P(A), P(B|A), P(B|not A)\n",
    "# P(A): P(女生)\n",
    "# P(not A): P(男生)\n",
    "#Q1：所以根據這個情況條件下。你會預測照片中的長髮是男性或女性？ (直覺回答)\n",
    "#答案：女性"
   ]
  },
  {
   "cell_type": "code",
   "execution_count": 2,
   "metadata": {},
   "outputs": [
    {
     "name": "stdout",
     "output_type": "stream",
     "text": [
      "Q2答案：計算看到長髮時，是女生的機率為 0.357\n"
     ]
    }
   ],
   "source": [
    "#Q2：以下圖資料，計算當你看到長髮時，是女生的機率？\n",
    "def bayes_theorem(p_a, p_b_given_a, p_b_given_not_a):\n",
    "  # calculate P(not A)\n",
    "  not_a = 1 - p_a\n",
    "  # calculate P(B)\n",
    "  p_b = p_b_given_a * p_a + p_b_given_not_a * not_a\n",
    "  # calculate P(A|B)\n",
    "  p_a_given_b = (p_b_given_a * p_a) / p_b\n",
    "  return p_a_given_b\n",
    "\n",
    "# P(A): P(女生)\n",
    "p_a = 10/100\n",
    "# P(B|A): P(長髮|女生)\n",
    "p_b_given_a = 5/10\n",
    "# P(B|not A): P(長髮|男生)\n",
    "p_b_given_not_a = 9/90\n",
    "# P(A|B): P(女生|長髮)\n",
    "result = bayes_theorem(p_a, p_b_given_a, p_b_given_not_a)\n",
    "print('Q2答案：計算看到長髮時，是女生的機率為 {0}'.format(round(result,3)))\n",
    "#答案：計算看到長髮時，是女生的機率為 0.357"
   ]
  },
  {
   "cell_type": "code",
   "execution_count": 3,
   "metadata": {},
   "outputs": [],
   "source": [
    "#Q3：你的決策因為男生女生比例不同 (先驗分配不同)，決策有沒有改變？\n",
    "#答案：有改變，改為男生"
   ]
  },
  {
   "cell_type": "code",
   "execution_count": null,
   "metadata": {},
   "outputs": [],
   "source": []
  }
 ],
 "metadata": {
  "kernelspec": {
   "display_name": "Python 3",
   "language": "python",
   "name": "python3"
  },
  "language_info": {
   "codemirror_mode": {
    "name": "ipython",
    "version": 3
   },
   "file_extension": ".py",
   "mimetype": "text/x-python",
   "name": "python",
   "nbconvert_exporter": "python",
   "pygments_lexer": "ipython3",
   "version": "3.8.5"
  }
 },
 "nbformat": 4,
 "nbformat_minor": 4
}
