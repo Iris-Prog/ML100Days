{
 "cells": [
  {
   "cell_type": "code",
   "execution_count": 1,
   "metadata": {},
   "outputs": [
    {
     "name": "stdout",
     "output_type": "stream",
     "text": [
      "預測機率為: 0.07958923738717888\n"
     ]
    }
   ],
   "source": [
    "#作業：丟一個銅板，丟了100次，出現正面 50 次的機率有多大\n",
    "# 離散均勻分配 (Discrete Uniform Distribution)\n",
    "#   前提：其中有限個數值擁有相同的機率。\n",
    "# 伯努利分配( Bernoulli Distribution )\n",
    "#   前提：是只有兩種可能結果（成功或失敗）的單次隨機試驗，成功的機率為p\n",
    "# 故：取伯努利分配求機率\n",
    "\n",
    "# library\n",
    "import matplotlib.pyplot as plt\n",
    "import numpy as np\n",
    "import pandas as pd\n",
    "from scipy import stats\n",
    "import math\n",
    "import statistics\n",
    "\n",
    "# 1.定義伯努利分配基本資訊\n",
    "p = 0.5 # 出現正面 50 次的機率為一半 \n",
    "n = 100 # 丟了100次\n",
    "r = 50  # 計算出現 50 次\n",
    "# 機率預測\n",
    "probs = stats.binom.pmf(r, n, p)\n",
    "print('預測機率為:',probs)"
   ]
  },
  {
   "cell_type": "code",
   "execution_count": null,
   "metadata": {},
   "outputs": [],
   "source": []
  }
 ],
 "metadata": {
  "kernelspec": {
   "display_name": "Python 3",
   "language": "python",
   "name": "python3"
  },
  "language_info": {
   "codemirror_mode": {
    "name": "ipython",
    "version": 3
   },
   "file_extension": ".py",
   "mimetype": "text/x-python",
   "name": "python",
   "nbconvert_exporter": "python",
   "pygments_lexer": "ipython3",
   "version": "3.8.5"
  }
 },
 "nbformat": 4,
 "nbformat_minor": 4
}
