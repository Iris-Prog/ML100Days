{
 "cells": [
  {
   "cell_type": "code",
   "execution_count": 1,
   "metadata": {},
   "outputs": [],
   "source": [
    "# 今天課程中以一個案例，說明資料分析的流程與探索性分析，是否對於課程中一開始的問題，更有想法了?!\n",
    "# 挑選 Mr./Ms. Right\n",
    "# 顧客下次會買哪些東西？\n",
    "# 半導體的良率預測？\n",
    "\n",
    "# Q1: 哪一個問題不適合用資料科學解決?\n",
    "# Q1答案：「半導體的良率預測」不適合用資料科學解決。\n",
    "\n",
    "# Q2: 以你的角度來分析，為什麼這樣的問題，較不適合用資料來解決?\n",
    "# Q2答案：因良率有固定的標準，非用資料科學演算得來，故不適合用資料科學來解決。"
   ]
  },
  {
   "cell_type": "code",
   "execution_count": null,
   "metadata": {},
   "outputs": [],
   "source": []
  }
 ],
 "metadata": {
  "kernelspec": {
   "display_name": "Python 3",
   "language": "python",
   "name": "python3"
  },
  "language_info": {
   "codemirror_mode": {
    "name": "ipython",
    "version": 3
   },
   "file_extension": ".py",
   "mimetype": "text/x-python",
   "name": "python",
   "nbconvert_exporter": "python",
   "pygments_lexer": "ipython3",
   "version": "3.8.5"
  }
 },
 "nbformat": 4,
 "nbformat_minor": 4
}
