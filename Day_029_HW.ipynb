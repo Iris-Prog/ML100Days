{
 "cells": [
  {
   "cell_type": "code",
   "execution_count": 1,
   "metadata": {},
   "outputs": [
    {
     "name": "stdout",
     "output_type": "stream",
     "text": [
      "Q1答案:標準常態分配小於1的機率有: 84.1344746068543 %\n"
     ]
    }
   ],
   "source": [
    "# Q1:計算標準常態分配，小於1的機率有多大?\n",
    "# 提示:用 cdf 來算\n",
    "# 設定使用參數\n",
    "import matplotlib.pyplot as plt\n",
    "import numpy as np\n",
    "import pandas as pd\n",
    "from scipy import stats\n",
    "import math\n",
    "import statistics\n",
    "import seaborn as sns\n",
    "loc=0    # loc: mean\n",
    "scale=1  # scale: standard deviation\n",
    "smaller1_probs =  stats.norm(loc, scale).cdf(1)\n",
    "print('Q1答案:標準常態分配小於1的機率有:',smaller1_probs*100,'%')\n",
    "# Q1答案:標準常態分配小於1的機率有: 84.1344746068543 %"
   ]
  },
  {
   "cell_type": "code",
   "execution_count": 2,
   "metadata": {},
   "outputs": [
    {
     "name": "stdout",
     "output_type": "stream",
     "text": [
      "Q2答案:計算標準常態分配，大於1、小於-1的機率有: 31.731050786291416 %\n"
     ]
    }
   ],
   "source": [
    "#Q2:計算標準常態分配，大於1，小於-1的機率有多大?\n",
    "cdf_lower_limit = stats.norm(loc, scale).cdf(-1)\n",
    "cdf_upper_limit = stats.norm(loc, scale).cdf(1)\n",
    "prob_btn = cdf_upper_limit - cdf_lower_limit\n",
    "prob = 1 - prob_btn \n",
    "print('Q2答案:計算標準常態分配，大於1、小於-1的機率有:',prob*100,'%')\n",
    "# Q2答案:計算標準常態分配，大於1、小於-1的機率有:31.731050786291416 %"
   ]
  },
  {
   "cell_type": "code",
   "execution_count": 3,
   "metadata": {},
   "outputs": [
    {
     "name": "stdout",
     "output_type": "stream",
     "text": [
      "Q3.1答案:計算 X~N(2,4)，小於3的機率有: 69.14624612740131 %\n",
      "Q3.2答案:X~N(2,4),x 服從常態分配，平均數為2,變異數為4，計算 X小於 6 的機率有: 97.72498680518208 %\n"
     ]
    }
   ],
   "source": [
    "#Q3.1：計算 X~N(2,4)，小於3的機率有多大？\n",
    "#Q3.2:X~N(2,4),x 服從常態分配，平均數為2,變異數為4，計算 X小於 6 的機率有多大?\n",
    "#X~N(μ,σ2) 透過標準化，將一般常態轉成標準常態分配，標準常態分配的符號為Z。\n",
    "#X~N(2,4) σ平方=4, 所以, σ=2\n",
    "μ=2\n",
    "σ=2\n",
    "prob3 =  stats.norm(μ, σ).cdf(3)\n",
    "prob6 =  stats.norm(μ, σ).cdf(6)\n",
    "print('Q3.1答案:計算 X~N(2,4)，小於3的機率有:',prob3*100,'%')\n",
    "print('Q3.2答案:X~N(2,4),x 服從常態分配，平均數為2,變異數為4，計算 X小於 6 的機率有:',prob6*100,'%')\n",
    "# Q3.1答案:計算 X~N(2,4)，小於3的機率有: 69.14624612740131 %\n",
    "# Q3.2答案:X~N(2,4),x 服從常態分配，平均數為2,變異數為4，計算 X小於 6 的機率有: 97.72498680518208 %"
   ]
  },
  {
   "cell_type": "code",
   "execution_count": null,
   "metadata": {},
   "outputs": [],
   "source": []
  }
 ],
 "metadata": {
  "kernelspec": {
   "display_name": "Python 3",
   "language": "python",
   "name": "python3"
  },
  "language_info": {
   "codemirror_mode": {
    "name": "ipython",
    "version": 3
   },
   "file_extension": ".py",
   "mimetype": "text/x-python",
   "name": "python",
   "nbconvert_exporter": "python",
   "pygments_lexer": "ipython3",
   "version": "3.8.5"
  }
 },
 "nbformat": 4,
 "nbformat_minor": 4
}
