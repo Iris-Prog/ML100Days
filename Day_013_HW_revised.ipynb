{
 "cells": [
  {
   "cell_type": "code",
   "execution_count": 1,
   "metadata": {},
   "outputs": [
    {
     "data": {
      "text/plain": [
       "student_id\n",
       "1     64.000000\n",
       "2     56.333333\n",
       "3     44.000000\n",
       "4     78.666667\n",
       "5     68.666667\n",
       "6     56.333333\n",
       "7     64.666667\n",
       "8     62.333333\n",
       "9     57.333333\n",
       "10    57.000000\n",
       "dtype: float64"
      ]
     },
     "execution_count": 1,
     "metadata": {},
     "output_type": "execute_result"
    }
   ],
   "source": [
    "# 題目1: 6 號學生(student_id=6) 3 科平均分數為何？\n",
    "import pandas as pd\n",
    "score_df = pd.DataFrame([[1,56,66,70],[2,90,45,34], \n",
    "           [3,45,32,55], [4,70,77,89], [5,56,80,70], [6,60,54,55],\n",
    "           [7,45,70,79], [8,34,77,76], [9,25,87,60], [10,88,40,43]],\n",
    "          columns=['student_id','math_score','english_score','chinese_score'])\n",
    "score_df = score_df.set_index('student_id')\n",
    "score_df.mean(axis=1)\n",
    "#答案: 6 號學生 3 科平均分數為 56.333333"
   ]
  },
  {
   "cell_type": "code",
   "execution_count": 2,
   "metadata": {},
   "outputs": [
    {
     "data": {
      "text/plain": [
       "math_score       56.0\n",
       "english_score    68.0\n",
       "chinese_score    65.0\n",
       "dtype: float64"
      ]
     },
     "execution_count": 2,
     "metadata": {},
     "output_type": "execute_result"
    }
   ],
   "source": [
    "# 題目2: 6 號學生 3 科平均分數是否有贏過班上一半的同學？\n",
    "# score_df.median() 修正前\n",
    "#答案: 6 號學生 3 科平均分數僅數學有贏過班上一半同學\n",
    "mean_score_df = score_df.mean(axis=1)\n",
    "mean_score_df.median()\n",
    "#答案: 6 號學生 3 科平均分數為56.33333未贏過班上平均分數的中位數為59.833333\n",
    "#     所以6號同學3科平均分數沒有贏過班上一半的同學"
   ]
  },
  {
   "cell_type": "code",
   "execution_count": 3,
   "metadata": {},
   "outputs": [
    {
     "data": {
      "text/html": [
       "<div>\n",
       "<style scoped>\n",
       "    .dataframe tbody tr th:only-of-type {\n",
       "        vertical-align: middle;\n",
       "    }\n",
       "\n",
       "    .dataframe tbody tr th {\n",
       "        vertical-align: top;\n",
       "    }\n",
       "\n",
       "    .dataframe thead th {\n",
       "        text-align: right;\n",
       "    }\n",
       "</style>\n",
       "<table border=\"1\" class=\"dataframe\">\n",
       "  <thead>\n",
       "    <tr style=\"text-align: right;\">\n",
       "      <th></th>\n",
       "      <th>math_score</th>\n",
       "      <th>english_score</th>\n",
       "      <th>chinese_score</th>\n",
       "    </tr>\n",
       "    <tr>\n",
       "      <th>student_id</th>\n",
       "      <th></th>\n",
       "      <th></th>\n",
       "      <th></th>\n",
       "    </tr>\n",
       "  </thead>\n",
       "  <tbody>\n",
       "    <tr>\n",
       "      <th>1</th>\n",
       "      <td>74.833148</td>\n",
       "      <td>81.240384</td>\n",
       "      <td>83.666003</td>\n",
       "    </tr>\n",
       "    <tr>\n",
       "      <th>2</th>\n",
       "      <td>94.868330</td>\n",
       "      <td>67.082039</td>\n",
       "      <td>58.309519</td>\n",
       "    </tr>\n",
       "    <tr>\n",
       "      <th>3</th>\n",
       "      <td>67.082039</td>\n",
       "      <td>56.568542</td>\n",
       "      <td>74.161985</td>\n",
       "    </tr>\n",
       "    <tr>\n",
       "      <th>4</th>\n",
       "      <td>83.666003</td>\n",
       "      <td>87.749644</td>\n",
       "      <td>94.339811</td>\n",
       "    </tr>\n",
       "    <tr>\n",
       "      <th>5</th>\n",
       "      <td>74.833148</td>\n",
       "      <td>89.442719</td>\n",
       "      <td>83.666003</td>\n",
       "    </tr>\n",
       "    <tr>\n",
       "      <th>6</th>\n",
       "      <td>77.459667</td>\n",
       "      <td>73.484692</td>\n",
       "      <td>74.161985</td>\n",
       "    </tr>\n",
       "    <tr>\n",
       "      <th>7</th>\n",
       "      <td>67.082039</td>\n",
       "      <td>83.666003</td>\n",
       "      <td>88.881944</td>\n",
       "    </tr>\n",
       "    <tr>\n",
       "      <th>8</th>\n",
       "      <td>58.309519</td>\n",
       "      <td>87.749644</td>\n",
       "      <td>87.177979</td>\n",
       "    </tr>\n",
       "    <tr>\n",
       "      <th>9</th>\n",
       "      <td>50.000000</td>\n",
       "      <td>93.273791</td>\n",
       "      <td>77.459667</td>\n",
       "    </tr>\n",
       "    <tr>\n",
       "      <th>10</th>\n",
       "      <td>93.808315</td>\n",
       "      <td>63.245553</td>\n",
       "      <td>65.574385</td>\n",
       "    </tr>\n",
       "  </tbody>\n",
       "</table>\n",
       "</div>"
      ],
      "text/plain": [
       "            math_score  english_score  chinese_score\n",
       "student_id                                          \n",
       "1            74.833148      81.240384      83.666003\n",
       "2            94.868330      67.082039      58.309519\n",
       "3            67.082039      56.568542      74.161985\n",
       "4            83.666003      87.749644      94.339811\n",
       "5            74.833148      89.442719      83.666003\n",
       "6            77.459667      73.484692      74.161985\n",
       "7            67.082039      83.666003      88.881944\n",
       "8            58.309519      87.749644      87.177979\n",
       "9            50.000000      93.273791      77.459667\n",
       "10           93.808315      63.245553      65.574385"
      ]
     },
     "execution_count": 3,
     "metadata": {},
     "output_type": "execute_result"
    }
   ],
   "source": [
    "# 題目3: 由於班上同學成績不好，所以學校統一加分，加分方式為開根號乘以十，請問 6 號同學 3 科成績分別是？\n",
    "score_df.apply(lambda x : x**(0.5)*10)\n",
    "#答案: 6 號學生 3 科加分後成績 (1)數學為77.459667 (2)英文為73.484692 (3)國文為74.161985"
   ]
  },
  {
   "cell_type": "code",
   "execution_count": 4,
   "metadata": {},
   "outputs": [
    {
     "data": {
      "text/plain": [
       "math_score       74.194221\n",
       "english_score    78.350301\n",
       "chinese_score    78.739928\n",
       "dtype: float64"
      ]
     },
     "execution_count": 4,
     "metadata": {},
     "output_type": "execute_result"
    }
   ],
   "source": [
    "# 題目4: 承上題，加分後各科班平均變多少？\n",
    "score_apply = score_df.apply(lambda x : x**(0.5)*10)\n",
    "score_apply.mean()\n",
    "#答案: 加分後各科班平均成績 (1)數學為74.194221 (2)英文為78.350301 (3)國文為78.739928"
   ]
  },
  {
   "cell_type": "code",
   "execution_count": null,
   "metadata": {},
   "outputs": [],
   "source": []
  }
 ],
 "metadata": {
  "kernelspec": {
   "display_name": "Python 3",
   "language": "python",
   "name": "python3"
  },
  "language_info": {
   "codemirror_mode": {
    "name": "ipython",
    "version": 3
   },
   "file_extension": ".py",
   "mimetype": "text/x-python",
   "name": "python",
   "nbconvert_exporter": "python",
   "pygments_lexer": "ipython3",
   "version": "3.8.5"
  }
 },
 "nbformat": 4,
 "nbformat_minor": 4
}
