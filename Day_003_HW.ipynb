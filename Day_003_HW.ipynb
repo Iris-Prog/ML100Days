{
 "cells": [
  {
   "cell_type": "code",
   "execution_count": 1,
   "metadata": {},
   "outputs": [
    {
     "name": "stdout",
     "output_type": "stream",
     "text": [
      "60.0\n"
     ]
    }
   ],
   "source": [
    "#題目：運用投影片中的分貝公式回答下列問題。\n",
    "#GdB = 20log(V1/V0); GdB(分貝), V1(微巴斯卡), V0(20μPa-聽覺閾)\n",
    "#1. 正常的談話的聲壓為20000微巴斯卡，請問多少分貝?\n",
    "import numpy as np\n",
    "GdB = 20*np.log10(20000/20)\n",
    "print(GdB)"
   ]
  },
  {
   "cell_type": "code",
   "execution_count": 2,
   "metadata": {},
   "outputs": [
    {
     "name": "stdout",
     "output_type": "stream",
     "text": [
      "0.09999999999999999\n"
     ]
    }
   ],
   "source": [
    "#2. 30分貝的聲壓會是50分貝的幾倍?\n",
    "# 20*log10(v1/20)=30GdB; 20*log10(v2/20)=50Gdb\n",
    "# 簡化 log10(v1/20)=3/2; log10(v2/20)=5/2\n",
    "# 再簡化 v1/20=10^3/2; v2/20=10^5/2\n",
    "# v1:v2 = 10^3/2:10^5/2\n",
    "r = np.power(10,3/2)/np.power(10,5/2)\n",
    "print(r)"
   ]
  },
  {
   "cell_type": "code",
   "execution_count": null,
   "metadata": {},
   "outputs": [],
   "source": []
  }
 ],
 "metadata": {
  "kernelspec": {
   "display_name": "Python 3",
   "language": "python",
   "name": "python3"
  },
  "language_info": {
   "codemirror_mode": {
    "name": "ipython",
    "version": 3
   },
   "file_extension": ".py",
   "mimetype": "text/x-python",
   "name": "python",
   "nbconvert_exporter": "python",
   "pygments_lexer": "ipython3",
   "version": "3.8.5"
  }
 },
 "nbformat": 4,
 "nbformat_minor": 4
}
