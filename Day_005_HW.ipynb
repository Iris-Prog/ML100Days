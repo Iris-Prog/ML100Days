{
 "cells": [
  {
   "cell_type": "code",
   "execution_count": 1,
   "metadata": {},
   "outputs": [
    {
     "name": "stdout",
     "output_type": "stream",
     "text": [
      "67.16666666666667\n",
      "89\n",
      "48\n",
      "13.433995020924426\n",
      "66.6\n",
      "85.0\n",
      "60.0\n",
      "9.707728879609279\n",
      "75.33333333333333\n",
      "90\n",
      "65\n",
      "8.825468196582484\n"
     ]
    }
   ],
   "source": [
    "import numpy as np\n",
    "#題目:\n",
    "english_score = np.array([55,89,76,65,48,70])\n",
    "math_score = np.array([60,85,60,68,np.nan,60])\n",
    "chinese_score = np.array([65,90,82,72,66,77])\n",
    "\n",
    "#上3列共六位同學的英文、數學、國文成績，第一個元素代表第一位同學\n",
    "#舉例第一位同學英文 55 分、數學 60 分、國文 65 分，今天第五位同學因某原因沒來考試，導致數學成績缺值，運用上列數據回答下列問題。\n",
    "#1. 請計算各科成績平均、最大值、最小值、標準差，其中數學缺一筆資料可忽略？\n",
    "#英文\n",
    "eng_mean = np.mean(english_score)\n",
    "print(eng_mean)\n",
    "eng_max = np.max(english_score)\n",
    "print(eng_max)\n",
    "eng_min = np.min(english_score)\n",
    "print(eng_min)\n",
    "eng_std = np.std(english_score)\n",
    "print(eng_std)\n",
    "\n",
    "#--------------------------------\n",
    "#數學\n",
    "math_nanmean = np.nanmean(math_score)\n",
    "print(math_nanmean)\n",
    "math_nanmax = np.nanmax(math_score)\n",
    "print(math_nanmax)\n",
    "math_nanmin = np.nanmin(math_score)\n",
    "print(math_nanmin)\n",
    "math_nanstd = np.nanstd(math_score)\n",
    "print(math_nanstd)\n",
    "\n",
    "#--------------------------------\n",
    "#國文\n",
    "chinese_mean = np.mean(chinese_score)\n",
    "print(chinese_mean)\n",
    "chinese_max = np.max(chinese_score)\n",
    "print(chinese_max)\n",
    "chinese_min = np.min(chinese_score)\n",
    "print(chinese_min)\n",
    "chinese_std = np.std(chinese_score)\n",
    "print(chinese_std)\n",
    "\n",
    "#--------------------------------\n",
    "\n",
    "# 答案：\n",
    "# 英文平均值為67.16666666666667, 最大值為89, 最小值為48, 標準差為13.433995020924426。 \n",
    "# 數學不計算缺考平均值為66.6, 最大值為85, 最小值為60, 標準差為9.707728879609279。\n",
    "# 國文平均值為75.33333333333333, 最大值為90, 最小值為65, 標準差為8.825468196582484。\n",
    "# 數學缺一筆資料可忽略，但需要使用忽略 nan 元素值的函式。"
   ]
  },
  {
   "cell_type": "code",
   "execution_count": 2,
   "metadata": {},
   "outputs": [
    {
     "name": "stdout",
     "output_type": "stream",
     "text": [
      "64.66666666666667\n",
      "85\n",
      "55\n",
      "9.860132971832694\n"
     ]
    }
   ],
   "source": [
    "#2. 第五位同學補考數學後成績為 55，請計算補考後數學成績平均、最大值、最小值、標準差？\n",
    "math_score = np.array([60,85,60,68,55,60])\n",
    "math_nanmean = np.mean(math_score)\n",
    "print(math_nanmean)\n",
    "math_nanmax = np.max(math_score)\n",
    "print(math_nanmax)\n",
    "math_nanmin = np.min(math_score)\n",
    "print(math_nanmin)\n",
    "math_nanstd = np.std(math_score)\n",
    "print(math_nanstd)\n",
    "\n",
    "#--------------------------------\n",
    "\n",
    "# 答案：\n",
    "# 數學第五位同學補考後平均值為64.66666666666667, 最大值為85, 最小值為55, 標準差為9.860132971832694。"
   ]
  },
  {
   "cell_type": "code",
   "execution_count": 3,
   "metadata": {},
   "outputs": [
    {
     "name": "stdout",
     "output_type": "stream",
     "text": [
      "[[1.         0.74056803]\n",
      " [0.74056803 1.        ]]\n"
     ]
    }
   ],
   "source": [
    "#3. 用補考後資料找出與國文成績相關係數最高的學科？\n",
    "math_chinese_corr = np.corrcoef(math_score, chinese_score)\n",
    "print(math_chinese_corr)\n",
    "\n",
    "# 答案：\n",
    "# [[1.         0.74056803]\n",
    "#  [0.74056803 1.        ]]"
   ]
  },
  {
   "cell_type": "code",
   "execution_count": null,
   "metadata": {},
   "outputs": [],
   "source": []
  }
 ],
 "metadata": {
  "kernelspec": {
   "display_name": "Python 3",
   "language": "python",
   "name": "python3"
  },
  "language_info": {
   "codemirror_mode": {
    "name": "ipython",
    "version": 3
   },
   "file_extension": ".py",
   "mimetype": "text/x-python",
   "name": "python",
   "nbconvert_exporter": "python",
   "pygments_lexer": "ipython3",
   "version": "3.8.5"
  }
 },
 "nbformat": 4,
 "nbformat_minor": 4
}
