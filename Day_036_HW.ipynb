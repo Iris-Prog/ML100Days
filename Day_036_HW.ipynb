{
 "cells": [
  {
   "cell_type": "code",
   "execution_count": 1,
   "metadata": {},
   "outputs": [
    {
     "name": "stdout",
     "output_type": "stream",
     "text": [
      "      組別  不良品   良品\n",
      "0   生產線I   75  225\n",
      "1  生產線II   30  270\n",
      "\n",
      "z-test : 4.834937784152282\n",
      "p-value: 0.9999993340635781\n"
     ]
    }
   ],
   "source": [
    "# 作業:用 A/B test 幫工廠做決定吧\n",
    "# 作業 1：某工廠想知道兩條不同的生產線的產品不良率是否有所不同，由兩條生產線中各抽取 300 個樣本\n",
    "#         第一組有 75 個不良品，第二組有 30 個不良品，我們可以宣稱生產線所生產出的產品不良率不相同? (以 0.05 為顯著水準)?\n",
    "# (提示:透過課程投影片的步驟，需思考 𝐻_0、 𝐻_1 的寫法和範例不同唷。)\n",
    "# library\n",
    "import pandas as pd\n",
    "import statsmodels.stats.proportion\n",
    "# H0: 生產線影響良率\n",
    "# H1: 生產線影響良率\n",
    "data = pd.DataFrame({\n",
    "    '組別':['生產線I','生產線II'],\n",
    "    '不良品':[75,30],\n",
    "    '良品':[225,270]\n",
    "})[['組別','不良品','良品']]\n",
    "print(data)\n",
    "\n",
    "A = [75,30]   # 兩組生產線個別之不良品\n",
    "B = [300,300] # 兩組實驗總個數\n",
    "α = 0.05     # 顯著水準\n",
    "ztest, pvalue = statsmodels.stats.proportion.proportions_ztest(A, B, alternative='smaller')\n",
    "print('\\nz-test :', ztest)\n",
    "print('p-value:', pvalue)\n",
    "\n",
    "# Q1答案：生產線I P值 = 0.999 > α，將提供足夠的證據支持生產線影響良率\n",
    "# 　　　  但也有可能是α設得太小，或取樣問題，導致 TypeI Error發生，無法拒絕一個錯誤的虛無假設"
   ]
  },
  {
   "cell_type": "code",
   "execution_count": null,
   "metadata": {},
   "outputs": [],
   "source": [
    "# 作業 2：你的工作，有需要 A/B test 幫你做決定？\n",
    "# 可以在論壇中，寫出你的問題，嘗試用今天課程教的方法，透過 5個步驟的拆解，計算出結果，透過統計輔助你做決策。\n",
    "# Q2答案：無"
   ]
  }
 ],
 "metadata": {
  "kernelspec": {
   "display_name": "Python 3",
   "language": "python",
   "name": "python3"
  },
  "language_info": {
   "codemirror_mode": {
    "name": "ipython",
    "version": 3
   },
   "file_extension": ".py",
   "mimetype": "text/x-python",
   "name": "python",
   "nbconvert_exporter": "python",
   "pygments_lexer": "ipython3",
   "version": "3.8.5"
  }
 },
 "nbformat": 4,
 "nbformat_minor": 4
}
