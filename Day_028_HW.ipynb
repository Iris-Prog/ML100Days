{
 "cells": [
  {
   "cell_type": "code",
   "execution_count": 1,
   "metadata": {},
   "outputs": [
    {
     "name": "stdout",
     "output_type": "stream",
     "text": [
      "Ans.1: 超幾何分配; 此分配方式為「有限個物件中抽出n個物件，成功抽出指定種類的物件的個數（不歸還）」\n",
      "\n",
      "Ans.2: 中獎機率為 7.224761580900876e-11\n",
      "\n",
      "Ans.3:電腦簽注中獎機率要高\n"
     ]
    }
   ],
   "source": [
    "# library\n",
    "import matplotlib.pyplot as plt\n",
    "import numpy as np\n",
    "import pandas as pd\n",
    "from scipy import stats\n",
    "import math\n",
    "import statistics\n",
    "\n",
    "# 運用python語法了解各分配的特性與應用 pmf、cdf、rvs和 stats\n",
    "# Q1: 大樂透的頭獎，你必須從49個挑選出 6 個號碼，\n",
    "#     且這六個號碼與頭獎的六個號碼一致，頭獎的機率是屬於哪一種分配?\n",
    "print('Ans.1: 超幾何分配; 此分配方式為「有限個物件中抽出n個物件，成功抽出指定種類的物件的個數（不歸還）」')\n",
    "\n",
    "# Q2: 運用範例的 python 程式碼，計算大樂透的中頭獎機率?\n",
    "n=6\n",
    "p=1/49\n",
    "probs = stats.binom.pmf(6, n, p)\n",
    "print('\\nAns.2: 中獎機率為',probs)\n",
    "\n",
    "# Q3: 你覺得電腦簽注的中獎機率，和人腦簽注相比，哪一個機率高?\n",
    "print('\\nAns.3:電腦簽注中獎機率要高')"
   ]
  },
  {
   "cell_type": "code",
   "execution_count": null,
   "metadata": {},
   "outputs": [],
   "source": []
  }
 ],
 "metadata": {
  "kernelspec": {
   "display_name": "Python 3",
   "language": "python",
   "name": "python3"
  },
  "language_info": {
   "codemirror_mode": {
    "name": "ipython",
    "version": 3
   },
   "file_extension": ".py",
   "mimetype": "text/x-python",
   "name": "python",
   "nbconvert_exporter": "python",
   "pygments_lexer": "ipython3",
   "version": "3.8.5"
  }
 },
 "nbformat": 4,
 "nbformat_minor": 4
}
