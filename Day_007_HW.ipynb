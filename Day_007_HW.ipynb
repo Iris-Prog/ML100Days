{
 "cells": [
  {
   "cell_type": "code",
   "execution_count": 1,
   "metadata": {},
   "outputs": [
    {
     "name": "stdout",
     "output_type": "stream",
     "text": [
      "反矩陣：\n",
      " [[ 0.19230769 -0.30769231]\n",
      " [-0.11538462  0.38461538]]\n",
      "反矩陣乘上原矩陣：\n",
      " [[1. 0.]\n",
      " [0. 1.]]\n"
     ]
    }
   ],
   "source": [
    "import numpy as np\n",
    "#題目: 1. 運用上列array計算反矩陣，乘上原矩陣，並觀察是否為單位矩陣?\n",
    "array1 = np.array([[10, 8], [3, 5]])\n",
    "# 計算反矩陣\n",
    "arr2 = np.linalg.inv(array1)\n",
    "print('反矩陣：\\n',arr2)\n",
    "# 計算反矩陣\n",
    "# 反矩陣乘上原矩陣\n",
    "arr3 = array1 @ arr2\n",
    "print('反矩陣乘上原矩陣：\\n',arr3)\n",
    "#答案:\n",
    "# 反矩陣：\n",
    "# [[ 0.19230769 -0.30769231]\n",
    "#  [-0.11538462  0.38461538]]\n",
    "# 反矩陣乘上原矩陣：\n",
    "# [[1. 0.]\n",
    "# [0. 1.]]\n",
    "# 反矩陣乘上原矩陣其對角線值為1，故「是」單位矩陣。"
   ]
  },
  {
   "cell_type": "code",
   "execution_count": 2,
   "metadata": {},
   "outputs": [
    {
     "name": "stdout",
     "output_type": "stream",
     "text": [
      "特徵值：\n",
      " [13.  2.]\n",
      "特徵向量：\n",
      " [[ 0.93632918 -0.70710678]\n",
      " [ 0.35112344  0.70710678]]\n"
     ]
    }
   ],
   "source": [
    "#題目: 2. 運用上列array計算特徵值、特徵向量?\n",
    "w, v = np.linalg.eig(array1)\n",
    "print('特徵值：\\n',w)\n",
    "print('特徵向量：\\n',v)\n",
    "#答案:\n",
    "# 特徵值：\n",
    "# [13.  2.]\n",
    "# 特徵向量：\n",
    "# [[ 0.93632918 -0.70710678]\n",
    "# [ 0.35112344  0.70710678]]"
   ]
  },
  {
   "cell_type": "code",
   "execution_count": 3,
   "metadata": {},
   "outputs": [
    {
     "name": "stdout",
     "output_type": "stream",
     "text": [
      "分解得到矩陣的形狀：\n",
      " (2, 2) (2,) (2, 2)\n"
     ]
    }
   ],
   "source": [
    "#題目: 3. 運用上列array計算SVD?\n",
    "u, s, vh = np.linalg.svd(array1)\n",
    "print('分解得到矩陣的形狀：\\n',u.shape,s.shape,vh.shape)\n",
    "#答案:\n",
    "# 分解得到矩陣的形狀：\n",
    "#  (2, 2) (2,) (2, 2)"
   ]
  },
  {
   "cell_type": "code",
   "execution_count": null,
   "metadata": {},
   "outputs": [],
   "source": []
  }
 ],
 "metadata": {
  "kernelspec": {
   "display_name": "Python 3",
   "language": "python",
   "name": "python3"
  },
  "language_info": {
   "codemirror_mode": {
    "name": "ipython",
    "version": 3
   },
   "file_extension": ".py",
   "mimetype": "text/x-python",
   "name": "python",
   "nbconvert_exporter": "python",
   "pygments_lexer": "ipython3",
   "version": "3.8.5"
  }
 },
 "nbformat": 4,
 "nbformat_minor": 4
}
