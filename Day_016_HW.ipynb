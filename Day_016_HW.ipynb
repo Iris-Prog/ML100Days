{
 "cells": [
  {
   "cell_type": "code",
   "execution_count": 1,
   "metadata": {},
   "outputs": [
    {
     "data": {
      "text/plain": [
       "2019-01-01     0\n",
       "2019-01-02     1\n",
       "2019-01-03     2\n",
       "2019-01-04     3\n",
       "2019-01-05     4\n",
       "2019-01-06     5\n",
       "2019-01-07     6\n",
       "2019-01-08     7\n",
       "2019-01-09     8\n",
       "2019-01-10     9\n",
       "2019-01-11    10\n",
       "2019-01-12    11\n",
       "2019-01-13    12\n",
       "2019-01-14    13\n",
       "2019-01-15    14\n",
       "2019-01-16    15\n",
       "2019-01-17    16\n",
       "2019-01-18    17\n",
       "2019-01-19    18\n",
       "2019-01-20    19\n",
       "Freq: D, dtype: int64"
      ]
     },
     "execution_count": 1,
     "metadata": {},
     "output_type": "execute_result"
    }
   ],
   "source": [
    "#題目 : 運下列時間序列資料做運算\n",
    "import numpy as np\n",
    "import pandas as pd\n",
    "index = pd.date_range('1/1/2019', periods=20, freq='D')\n",
    "series = pd.Series(range(20), index=index)\n",
    "series"
   ]
  },
  {
   "cell_type": "code",
   "execution_count": 2,
   "metadata": {},
   "outputs": [
    {
     "data": {
      "text/plain": [
       "2019-01-01      Tuesday\n",
       "2019-01-02    Wednesday\n",
       "2019-01-03     Thursday\n",
       "2019-01-04       Friday\n",
       "2019-01-05     Saturday\n",
       "2019-01-06       Sunday\n",
       "2019-01-07       Monday\n",
       "2019-01-08      Tuesday\n",
       "2019-01-09    Wednesday\n",
       "2019-01-10     Thursday\n",
       "2019-01-11       Friday\n",
       "2019-01-12     Saturday\n",
       "2019-01-13       Sunday\n",
       "2019-01-14       Monday\n",
       "2019-01-15      Tuesday\n",
       "2019-01-16    Wednesday\n",
       "2019-01-17     Thursday\n",
       "2019-01-18       Friday\n",
       "2019-01-19     Saturday\n",
       "2019-01-20       Sunday\n",
       "Freq: D, dtype: object"
      ]
     },
     "execution_count": 2,
     "metadata": {},
     "output_type": "execute_result"
    }
   ],
   "source": [
    "#題目1. 將所有轉為周資料\n",
    "series_week = pd.Series(index.day_name(), index)\n",
    "series_week"
   ]
  },
  {
   "cell_type": "code",
   "execution_count": 3,
   "metadata": {},
   "outputs": [
    {
     "data": {
      "text/plain": [
       "12.0"
      ]
     },
     "execution_count": 3,
     "metadata": {},
     "output_type": "execute_result"
    }
   ],
   "source": [
    "#題目2. 將周資料的值取平均\n",
    "series_mean = series.resample('W').asfreq().mean()\n",
    "series_mean\n",
    "#答案：周資料的平均值為12.0"
   ]
  },
  {
   "cell_type": "code",
   "execution_count": null,
   "metadata": {},
   "outputs": [],
   "source": []
  }
 ],
 "metadata": {
  "kernelspec": {
   "display_name": "Python 3",
   "language": "python",
   "name": "python3"
  },
  "language_info": {
   "codemirror_mode": {
    "name": "ipython",
    "version": 3
   },
   "file_extension": ".py",
   "mimetype": "text/x-python",
   "name": "python",
   "nbconvert_exporter": "python",
   "pygments_lexer": "ipython3",
   "version": "3.8.5"
  }
 },
 "nbformat": 4,
 "nbformat_minor": 4
}
