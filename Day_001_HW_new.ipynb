{
 "cells": [
  {
   "cell_type": "code",
   "execution_count": 1,
   "metadata": {},
   "outputs": [
    {
     "name": "stdout",
     "output_type": "stream",
     "text": [
      "[ 0  1  2  3  4  5  6  7  8  9 10 11 12 13 14 15 16 17 18 19 20]\n"
     ]
    }
   ],
   "source": [
    "# 學生進度較慢，03/24/2021 上傳作業新作業發現自 Day001 之後的課程大綱都有異動\n",
    "# 且近日舊作業也有被清掉狀況，又發現 Day001 作業有新題目，故先更新第一篇作業\n",
    "# 其他先上傳舊檔，日後複習後再重新更新 ~~\n",
    "#1.生成一個等差數列，首數為0，尾數為20，公差為1的數列。\n",
    "import numpy as np\n",
    "\n",
    "A=np.arange(0,21)\n",
    "print(A)"
   ]
  },
  {
   "cell_type": "code",
   "execution_count": 2,
   "metadata": {},
   "outputs": [
    {
     "name": "stdout",
     "output_type": "stream",
     "text": [
      "[ 0  2  4  6  8 10 12 14 16 18 20]\n"
     ]
    }
   ],
   "source": [
    "#2.呈上題，將以上數列取出偶數。\n",
    "B=A[::2]\n",
    "print(B)"
   ]
  },
  {
   "cell_type": "code",
   "execution_count": 3,
   "metadata": {},
   "outputs": [
    {
     "name": "stdout",
     "output_type": "stream",
     "text": [
      "[ 3  6  9 12 15 18]\n"
     ]
    }
   ],
   "source": [
    "#3.呈 1 題，將數列取出 3 的倍數。\n",
    "C=A[3::3]\n",
    "print(C)"
   ]
  },
  {
   "cell_type": "code",
   "execution_count": 4,
   "metadata": {},
   "outputs": [
    {
     "name": "stdout",
     "output_type": "stream",
     "text": [
      "a list:  [9, 7, 3, 6, 0, 1, 4, 5, 6, 8]\n",
      "a tolist:  [9, 7, 3, 6, 0, 1, 4, 5, 6, 8]\n",
      "\n",
      "b list:  [array([5, 9]), array([1, 6]), array([9, 8]), array([7, 7]), array([7, 5])]\n",
      "b tolist:  [[5, 9], [1, 6], [9, 8], [7, 7], [7, 5]]\n"
     ]
    }
   ],
   "source": [
    "# 4. [簡答題] 請問下列兩種將 Array 轉換成 List 的方式有何不同？\n",
    "a = np.random.randint(10, size=10) \n",
    "print('a list: ', list(a))\n",
    "print('a tolist: ', a.tolist())\n",
    "\n",
    "b = np.random.randint(10, size=10).reshape(5,2)\n",
    "print('\\nb list: ', list(b))\n",
    "print('b tolist: ', b.tolist())\n",
    "\n",
    "# 答案：\n",
    "# list()只會把第一層的元素轉換成 List，多層的話只有第一層會轉換。\n",
    "# tolist()才能達成多層的型態轉換。"
   ]
  },
  {
   "cell_type": "code",
   "execution_count": 5,
   "metadata": {},
   "outputs": [
    {
     "name": "stdout",
     "output_type": "stream",
     "text": [
      "a :  [1 6 4 3 2 8]\n",
      "a ndim:  1\n",
      "a shape:  (6,)\n",
      "a size:  6\n",
      "a dtype:  int32\n",
      "a itemsize:  4\n",
      "a length:  6\n",
      "a type:  <class 'numpy.ndarray'>\n",
      "\n",
      "b :  [[6 8 6 6]\n",
      " [8 1 5 6]\n",
      " [2 4 2 0]]\n",
      "b ndim:  2\n",
      "b shape:  (3, 4)\n",
      "b size:  12\n",
      "b dtype:  int32\n",
      "b itemsize:  4\n",
      "b length:  3\n",
      "b type:  <class 'numpy.ndarray'>\n",
      "\n",
      "c :  [[[0 5]\n",
      "  [5 6]\n",
      "  [8 8]]\n",
      "\n",
      " [[7 3]\n",
      "  [2 0]\n",
      "  [2 3]]]\n",
      "c ndim:  3\n",
      "c shape:  (2, 3, 2)\n",
      "c size:  12\n",
      "c dtype:  int32\n",
      "c itemsize:  4\n",
      "c length:  2\n",
      "c type:  <class 'numpy.ndarray'>\n"
     ]
    }
   ],
   "source": [
    "# 5. 請試著在程式中印出以下三個 NdArray 的屬性？\n",
    "#   （屬性：ndim、shape、size、dtype、itemsize、length、type）\n",
    "a = np.random.randint(10, size=6) \n",
    "b = np.random.randint(10, size=(3,4)) \n",
    "c = np.random.randint(10, size=(2,3,2)) \n",
    "\n",
    "print('a : ',a)\n",
    "print('a ndim: ',a.ndim)\n",
    "print('a shape: ',a.shape)\n",
    "print('a size: ',a.size)\n",
    "print('a dtype: ',a.dtype)\n",
    "print('a itemsize: ',a.itemsize)\n",
    "print('a length: ',len(a))\n",
    "print('a type: ',type(a))\n",
    "\n",
    "print('\\nb : ',b)\n",
    "print('b ndim: ',b.ndim)\n",
    "print('b shape: ',b.shape)\n",
    "print('b size: ',b.size)\n",
    "print('b dtype: ',b.dtype)\n",
    "print('b itemsize: ',b.itemsize)\n",
    "print('b length: ',len(b))\n",
    "print('b type: ',type(b))\n",
    "\n",
    "\n",
    "print('\\nc : ',c)\n",
    "print('c ndim: ',c.ndim)\n",
    "print('c shape: ',c.shape)\n",
    "print('c size: ',c.size)\n",
    "print('c dtype: ',c.dtype)\n",
    "print('c itemsize: ',c.itemsize)\n",
    "print('c length: ',len(c))\n",
    "print('c type: ',type(c))"
   ]
  },
  {
   "cell_type": "code",
   "execution_count": 6,
   "metadata": {},
   "outputs": [
    {
     "name": "stdout",
     "output_type": "stream",
     "text": [
      "[6, 4, 8, 0, 9, 5]\n",
      "[6, 4, 8, 0, 9, 5]\n",
      "[[7, 0, 7, 8], [7, 7, 4, 6], [1, 1, 9, 9]]\n",
      "[array([7, 0, 7, 8]), array([7, 7, 4, 6]), array([1, 1, 9, 9])]\n",
      "[[[5, 7], [4, 4], [7, 6]], [[9, 7], [6, 6], [5, 0]]]\n",
      "[array([[5, 7],\n",
      "       [4, 4],\n",
      "       [7, 6]]), array([[9, 7],\n",
      "       [6, 6],\n",
      "       [5, 0]])]\n",
      "利用 list(a) 實踐 a.tolist() 的效果: [6, 4, 8, 0, 9, 5]\n",
      "利用 list(b) 實踐 b.tolist() 的效果: [[7, 0, 7, 8], [7, 7, 4, 6], [1, 1, 9, 9]]\n",
      "利用 list(c) 實踐 c.tolist() 的效果: [[[5, 7], [4, 4], [7, 6]], [[9, 7], [6, 6], [5, 0]]]\n"
     ]
    }
   ],
   "source": [
    "# 6. 如何利用 list(...) 實現 a.tolist() 的效果？試著用程式實作。\n",
    "a = np.random.randint(10, size=6) \n",
    "print(a.tolist())\n",
    "print(list(a))\n",
    "\n",
    "b = np.random.randint(10, size=(3,4)) \n",
    "print(b.tolist())\n",
    "print(list(b))\n",
    "\n",
    "c = np.random.randint(10, size=(2,3,2)) \n",
    "print(c.tolist())\n",
    "print(list(c))\n",
    "\n",
    "# 此區看講解作答\n",
    "def tolist(iterable):\n",
    "    if type(iterable) != np.ndarray:\n",
    "        return iterable\n",
    "    return [tolist(obj) for obj in iterable]\n",
    "\n",
    "print('利用 list(a) 實踐 a.tolist() 的效果:', tolist(a))\n",
    "print('利用 list(b) 實踐 b.tolist() 的效果:', tolist(b))\n",
    "print('利用 list(c) 實踐 c.tolist() 的效果:', tolist(c))"
   ]
  },
  {
   "cell_type": "code",
   "execution_count": null,
   "metadata": {},
   "outputs": [],
   "source": []
  }
 ],
 "metadata": {
  "kernelspec": {
   "display_name": "Python 3",
   "language": "python",
   "name": "python3"
  },
  "language_info": {
   "codemirror_mode": {
    "name": "ipython",
    "version": 3
   },
   "file_extension": ".py",
   "mimetype": "text/x-python",
   "name": "python",
   "nbconvert_exporter": "python",
   "pygments_lexer": "ipython3",
   "version": "3.8.5"
  }
 },
 "nbformat": 4,
 "nbformat_minor": 4
}
