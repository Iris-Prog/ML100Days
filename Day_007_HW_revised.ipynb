{
 "cells": [
  {
   "cell_type": "code",
   "execution_count": 1,
   "metadata": {},
   "outputs": [
    {
     "name": "stdout",
     "output_type": "stream",
     "text": [
      "反矩陣：\n",
      " [[ 0.19230769 -0.30769231]\n",
      " [-0.11538462  0.38461538]]\n",
      "反矩陣乘上原矩陣：\n",
      " [[1. 0.]\n",
      " [0. 1.]]\n"
     ]
    }
   ],
   "source": [
    "import numpy as np\n",
    "#題目: 1. 運用上列array計算反矩陣，乘上原矩陣，並觀察是否為單位矩陣?\n",
    "array1 = np.array([[10, 8], [3, 5]])\n",
    "# 計算反矩陣\n",
    "arr2 = np.linalg.inv(array1)\n",
    "print('反矩陣：\\n',arr2)\n",
    "# 計算反矩陣\n",
    "# 反矩陣乘上原矩陣\n",
    "# arr3 = array1 @ arr2 (修正前, 採用老師版本)\n",
    "arr3 = np.dot(arr2, array1)\n",
    "print('反矩陣乘上原矩陣：\\n',arr3)\n",
    "#答案:\n",
    "# 反矩陣：\n",
    "# [[ 0.19230769 -0.30769231]\n",
    "#  [-0.11538462  0.38461538]]\n",
    "# 反矩陣乘上原矩陣：\n",
    "#  [[1. 0.] ---> 跟老師的版本答案不同, [[ 1.00000000e+00, -5.55111512e-17] 有點不解??\n",
    "# [0. 1.]]  ---> 跟老師的版本答案不同, [-1.11022302e-16,  1.00000000e+00]] 有點不解??\n",
    "# 算出來等於[[1,0],[0,1]]，故「是」單位矩陣。 "
   ]
  },
  {
   "cell_type": "code",
   "execution_count": 2,
   "metadata": {},
   "outputs": [
    {
     "name": "stdout",
     "output_type": "stream",
     "text": [
      "特徵值：\n",
      " [13.  2.]\n",
      "特徵向量：\n",
      " [[ 0.93632918 -0.70710678]\n",
      " [ 0.35112344  0.70710678]]\n"
     ]
    }
   ],
   "source": [
    "#題目: 2. 運用上列array計算特徵值、特徵向量?\n",
    "w, v = np.linalg.eig(array1)\n",
    "print('特徵值：\\n',w)\n",
    "print('特徵向量：\\n',v)\n",
    "#答案:\n",
    "# 特徵值：\n",
    "# [13.  2.]\n",
    "# 特徵向量：\n",
    "# [[ 0.93632918 -0.70710678]\n",
    "# [ 0.35112344  0.70710678]]"
   ]
  },
  {
   "cell_type": "code",
   "execution_count": 3,
   "metadata": {},
   "outputs": [
    {
     "data": {
      "text/plain": [
       "(array([[-0.91663818, -0.39971796],\n",
       "        [-0.39971796,  0.91663818]]),\n",
       " array([13.94721714,  1.86417116]),\n",
       " array([[-0.74319741, -0.6690722 ],\n",
       "        [-0.6690722 ,  0.74319741]]))"
      ]
     },
     "execution_count": 3,
     "metadata": {},
     "output_type": "execute_result"
    }
   ],
   "source": [
    "#題目: 3. 運用上列array計算SVD?\n",
    "# u, s, vh = np.linalg.svd(array1) (修正前)\n",
    "# print('分解得到矩陣的形狀：\\n',u.shape,s.shape,vh.shape) (修正前)\n",
    "np.linalg.svd(array1)\n",
    "# (修正前)\n",
    "# 分解得到矩陣的形狀：\n",
    "#  (2, 2) (2,) (2, 2)\n",
    "#答案:\n",
    "#(array([[-0.91663818, -0.39971796],\n",
    "#        [-0.39971796,  0.91663818]]),\n",
    "# array([13.94721714,  1.86417116]),\n",
    "# array([[-0.74319741, -0.6690722 ],\n",
    "#        [-0.6690722 ,  0.74319741]]))"
   ]
  },
  {
   "cell_type": "code",
   "execution_count": null,
   "metadata": {},
   "outputs": [],
   "source": []
  }
 ],
 "metadata": {
  "kernelspec": {
   "display_name": "Python 3",
   "language": "python",
   "name": "python3"
  },
  "language_info": {
   "codemirror_mode": {
    "name": "ipython",
    "version": 3
   },
   "file_extension": ".py",
   "mimetype": "text/x-python",
   "name": "python",
   "nbconvert_exporter": "python",
   "pygments_lexer": "ipython3",
   "version": "3.8.5"
  }
 },
 "nbformat": 4,
 "nbformat_minor": 4
}
