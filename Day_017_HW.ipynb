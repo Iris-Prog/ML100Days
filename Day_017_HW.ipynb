{
 "cells": [
  {
   "cell_type": "code",
   "execution_count": 1,
   "metadata": {},
   "outputs": [],
   "source": [
    "# 題目1. 在速度較慢的時候，可以先從哪邊開始檢查？\n",
    "#答案：(1)選最快速的資料型態讀取 (2) 多使用內建函數 (3) 向量化資料處理\n",
    "\n",
    "# 題目2. 資料過大時應採取什麼方式讓記憶體占用量下降？\n",
    "#答案：可以將欄位的型態降級"
   ]
  },
  {
   "cell_type": "code",
   "execution_count": null,
   "metadata": {},
   "outputs": [],
   "source": []
  }
 ],
 "metadata": {
  "kernelspec": {
   "display_name": "Python 3",
   "language": "python",
   "name": "python3"
  },
  "language_info": {
   "codemirror_mode": {
    "name": "ipython",
    "version": 3
   },
   "file_extension": ".py",
   "mimetype": "text/x-python",
   "name": "python",
   "nbconvert_exporter": "python",
   "pygments_lexer": "ipython3",
   "version": "3.8.5"
  }
 },
 "nbformat": 4,
 "nbformat_minor": 4
}
